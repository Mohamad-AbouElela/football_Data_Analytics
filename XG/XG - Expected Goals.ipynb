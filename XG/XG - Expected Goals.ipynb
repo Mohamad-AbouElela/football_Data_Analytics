{
 "cells": [
  {
   "cell_type": "code",
   "execution_count": 1,
   "id": "7795f829",
   "metadata": {},
   "outputs": [],
   "source": [
    "# Import required libraries\n",
    "\n",
    "import pandas as pd\n",
    "import numpy as np\n",
    "import matplotlib.pyplot as plt\n",
    "import matplotlib as mpl\n",
    "\n",
    "%matplotlib inline\n",
    "%config Completer.use_jedi = False"
   ]
  },
  {
   "cell_type": "code",
   "execution_count": 2,
   "id": "b5441596",
   "metadata": {},
   "outputs": [
    {
     "data": {
      "text/html": [
       "<div>\n",
       "<style scoped>\n",
       "    .dataframe tbody tr th:only-of-type {\n",
       "        vertical-align: middle;\n",
       "    }\n",
       "\n",
       "    .dataframe tbody tr th {\n",
       "        vertical-align: top;\n",
       "    }\n",
       "\n",
       "    .dataframe thead th {\n",
       "        text-align: right;\n",
       "    }\n",
       "</style>\n",
       "<table border=\"1\" class=\"dataframe\">\n",
       "  <thead>\n",
       "    <tr style=\"text-align: right;\">\n",
       "      <th></th>\n",
       "      <th>Unnamed: 0</th>\n",
       "      <th>minute</th>\n",
       "      <th>team</th>\n",
       "      <th>xG</th>\n",
       "      <th>player</th>\n",
       "      <th>result</th>\n",
       "    </tr>\n",
       "  </thead>\n",
       "  <tbody>\n",
       "    <tr>\n",
       "      <th>0</th>\n",
       "      <td>0</td>\n",
       "      <td>1</td>\n",
       "      <td>Southampton</td>\n",
       "      <td>0.105402</td>\n",
       "      <td>Nathan Redmond</td>\n",
       "      <td>BlockedShot</td>\n",
       "    </tr>\n",
       "    <tr>\n",
       "      <th>1</th>\n",
       "      <td>1</td>\n",
       "      <td>2</td>\n",
       "      <td>Southampton</td>\n",
       "      <td>0.136320</td>\n",
       "      <td>Jan Bednarek</td>\n",
       "      <td>BlockedShot</td>\n",
       "    </tr>\n",
       "    <tr>\n",
       "      <th>2</th>\n",
       "      <td>2</td>\n",
       "      <td>2</td>\n",
       "      <td>Southampton</td>\n",
       "      <td>0.037217</td>\n",
       "      <td>Oriol Romeu</td>\n",
       "      <td>BlockedShot</td>\n",
       "    </tr>\n",
       "    <tr>\n",
       "      <th>3</th>\n",
       "      <td>3</td>\n",
       "      <td>2</td>\n",
       "      <td>Southampton</td>\n",
       "      <td>0.021404</td>\n",
       "      <td>James Ward-Prowse</td>\n",
       "      <td>BlockedShot</td>\n",
       "    </tr>\n",
       "    <tr>\n",
       "      <th>4</th>\n",
       "      <td>4</td>\n",
       "      <td>3</td>\n",
       "      <td>Southampton</td>\n",
       "      <td>0.066363</td>\n",
       "      <td>Pierre-Emile Højbjerg</td>\n",
       "      <td>BlockedShot</td>\n",
       "    </tr>\n",
       "    <tr>\n",
       "      <th>5</th>\n",
       "      <td>5</td>\n",
       "      <td>9</td>\n",
       "      <td>Southampton</td>\n",
       "      <td>0.363826</td>\n",
       "      <td>Nathan Redmond</td>\n",
       "      <td>SavedShot</td>\n",
       "    </tr>\n",
       "    <tr>\n",
       "      <th>6</th>\n",
       "      <td>6</td>\n",
       "      <td>11</td>\n",
       "      <td>Southampton</td>\n",
       "      <td>0.354095</td>\n",
       "      <td>Shane Long</td>\n",
       "      <td>Goal</td>\n",
       "    </tr>\n",
       "    <tr>\n",
       "      <th>7</th>\n",
       "      <td>7</td>\n",
       "      <td>17</td>\n",
       "      <td>Southampton</td>\n",
       "      <td>0.036274</td>\n",
       "      <td>Nathan Redmond</td>\n",
       "      <td>MissedShots</td>\n",
       "    </tr>\n",
       "    <tr>\n",
       "      <th>8</th>\n",
       "      <td>8</td>\n",
       "      <td>21</td>\n",
       "      <td>Southampton</td>\n",
       "      <td>0.076804</td>\n",
       "      <td>Danny Ings</td>\n",
       "      <td>MissedShots</td>\n",
       "    </tr>\n",
       "    <tr>\n",
       "      <th>9</th>\n",
       "      <td>9</td>\n",
       "      <td>23</td>\n",
       "      <td>Southampton</td>\n",
       "      <td>0.380378</td>\n",
       "      <td>Shane Long</td>\n",
       "      <td>SavedShot</td>\n",
       "    </tr>\n",
       "    <tr>\n",
       "      <th>10</th>\n",
       "      <td>10</td>\n",
       "      <td>23</td>\n",
       "      <td>Southampton</td>\n",
       "      <td>0.608956</td>\n",
       "      <td>Shane Long</td>\n",
       "      <td>ShotOnPost</td>\n",
       "    </tr>\n",
       "    <tr>\n",
       "      <th>11</th>\n",
       "      <td>11</td>\n",
       "      <td>47</td>\n",
       "      <td>Southampton</td>\n",
       "      <td>0.027636</td>\n",
       "      <td>Ryan Bertrand</td>\n",
       "      <td>MissedShots</td>\n",
       "    </tr>\n",
       "    <tr>\n",
       "      <th>12</th>\n",
       "      <td>12</td>\n",
       "      <td>49</td>\n",
       "      <td>Southampton</td>\n",
       "      <td>0.026454</td>\n",
       "      <td>Nathan Redmond</td>\n",
       "      <td>MissedShots</td>\n",
       "    </tr>\n",
       "    <tr>\n",
       "      <th>13</th>\n",
       "      <td>13</td>\n",
       "      <td>54</td>\n",
       "      <td>Southampton</td>\n",
       "      <td>0.033908</td>\n",
       "      <td>James Ward-Prowse</td>\n",
       "      <td>Goal</td>\n",
       "    </tr>\n",
       "    <tr>\n",
       "      <th>14</th>\n",
       "      <td>14</td>\n",
       "      <td>57</td>\n",
       "      <td>Southampton</td>\n",
       "      <td>0.429492</td>\n",
       "      <td>Danny Ings</td>\n",
       "      <td>SavedShot</td>\n",
       "    </tr>\n",
       "    <tr>\n",
       "      <th>15</th>\n",
       "      <td>15</td>\n",
       "      <td>58</td>\n",
       "      <td>Southampton</td>\n",
       "      <td>0.021995</td>\n",
       "      <td>Danny Ings</td>\n",
       "      <td>SavedShot</td>\n",
       "    </tr>\n",
       "    <tr>\n",
       "      <th>16</th>\n",
       "      <td>16</td>\n",
       "      <td>60</td>\n",
       "      <td>Southampton</td>\n",
       "      <td>0.050620</td>\n",
       "      <td>Matt Targett</td>\n",
       "      <td>BlockedShot</td>\n",
       "    </tr>\n",
       "    <tr>\n",
       "      <th>17</th>\n",
       "      <td>17</td>\n",
       "      <td>60</td>\n",
       "      <td>Southampton</td>\n",
       "      <td>0.053497</td>\n",
       "      <td>Nathan Redmond</td>\n",
       "      <td>MissedShots</td>\n",
       "    </tr>\n",
       "    <tr>\n",
       "      <th>18</th>\n",
       "      <td>18</td>\n",
       "      <td>66</td>\n",
       "      <td>Southampton</td>\n",
       "      <td>0.086690</td>\n",
       "      <td>Matt Targett</td>\n",
       "      <td>Goal</td>\n",
       "    </tr>\n",
       "    <tr>\n",
       "      <th>19</th>\n",
       "      <td>19</td>\n",
       "      <td>71</td>\n",
       "      <td>Southampton</td>\n",
       "      <td>0.011735</td>\n",
       "      <td>Pierre-Emile Højbjerg</td>\n",
       "      <td>MissedShots</td>\n",
       "    </tr>\n",
       "    <tr>\n",
       "      <th>20</th>\n",
       "      <td>20</td>\n",
       "      <td>79</td>\n",
       "      <td>Southampton</td>\n",
       "      <td>0.023274</td>\n",
       "      <td>Nathan Redmond</td>\n",
       "      <td>MissedShots</td>\n",
       "    </tr>\n",
       "    <tr>\n",
       "      <th>21</th>\n",
       "      <td>21</td>\n",
       "      <td>81</td>\n",
       "      <td>Southampton</td>\n",
       "      <td>0.018172</td>\n",
       "      <td>Pierre-Emile Højbjerg</td>\n",
       "      <td>MissedShots</td>\n",
       "    </tr>\n",
       "    <tr>\n",
       "      <th>22</th>\n",
       "      <td>22</td>\n",
       "      <td>19</td>\n",
       "      <td>Bournemouth</td>\n",
       "      <td>0.516069</td>\n",
       "      <td>Dan Gosling</td>\n",
       "      <td>Goal</td>\n",
       "    </tr>\n",
       "    <tr>\n",
       "      <th>23</th>\n",
       "      <td>23</td>\n",
       "      <td>31</td>\n",
       "      <td>Bournemouth</td>\n",
       "      <td>0.016307</td>\n",
       "      <td>David Brooks</td>\n",
       "      <td>SavedShot</td>\n",
       "    </tr>\n",
       "    <tr>\n",
       "      <th>24</th>\n",
       "      <td>24</td>\n",
       "      <td>31</td>\n",
       "      <td>Bournemouth</td>\n",
       "      <td>0.515468</td>\n",
       "      <td>Callum Wilson</td>\n",
       "      <td>Goal</td>\n",
       "    </tr>\n",
       "    <tr>\n",
       "      <th>25</th>\n",
       "      <td>25</td>\n",
       "      <td>51</td>\n",
       "      <td>Bournemouth</td>\n",
       "      <td>0.025648</td>\n",
       "      <td>Jack Simpson</td>\n",
       "      <td>MissedShots</td>\n",
       "    </tr>\n",
       "    <tr>\n",
       "      <th>26</th>\n",
       "      <td>26</td>\n",
       "      <td>72</td>\n",
       "      <td>Bournemouth</td>\n",
       "      <td>0.034942</td>\n",
       "      <td>Ryan Fraser</td>\n",
       "      <td>MissedShots</td>\n",
       "    </tr>\n",
       "    <tr>\n",
       "      <th>27</th>\n",
       "      <td>27</td>\n",
       "      <td>82</td>\n",
       "      <td>Bournemouth</td>\n",
       "      <td>0.017407</td>\n",
       "      <td>Joshua King</td>\n",
       "      <td>MissedShots</td>\n",
       "    </tr>\n",
       "    <tr>\n",
       "      <th>28</th>\n",
       "      <td>28</td>\n",
       "      <td>85</td>\n",
       "      <td>Bournemouth</td>\n",
       "      <td>0.973102</td>\n",
       "      <td>Callum Wilson</td>\n",
       "      <td>Goal</td>\n",
       "    </tr>\n",
       "    <tr>\n",
       "      <th>29</th>\n",
       "      <td>29</td>\n",
       "      <td>87</td>\n",
       "      <td>Bournemouth</td>\n",
       "      <td>0.506683</td>\n",
       "      <td>Callum Wilson</td>\n",
       "      <td>SavedShot</td>\n",
       "    </tr>\n",
       "    <tr>\n",
       "      <th>30</th>\n",
       "      <td>30</td>\n",
       "      <td>94</td>\n",
       "      <td>Bournemouth</td>\n",
       "      <td>0.024924</td>\n",
       "      <td>Joshua King</td>\n",
       "      <td>MissedShots</td>\n",
       "    </tr>\n",
       "  </tbody>\n",
       "</table>\n",
       "</div>"
      ],
      "text/plain": [
       "    Unnamed: 0  minute         team        xG                 player  \\\n",
       "0            0       1  Southampton  0.105402         Nathan Redmond   \n",
       "1            1       2  Southampton  0.136320           Jan Bednarek   \n",
       "2            2       2  Southampton  0.037217            Oriol Romeu   \n",
       "3            3       2  Southampton  0.021404      James Ward-Prowse   \n",
       "4            4       3  Southampton  0.066363  Pierre-Emile Højbjerg   \n",
       "5            5       9  Southampton  0.363826         Nathan Redmond   \n",
       "6            6      11  Southampton  0.354095             Shane Long   \n",
       "7            7      17  Southampton  0.036274         Nathan Redmond   \n",
       "8            8      21  Southampton  0.076804             Danny Ings   \n",
       "9            9      23  Southampton  0.380378             Shane Long   \n",
       "10          10      23  Southampton  0.608956             Shane Long   \n",
       "11          11      47  Southampton  0.027636          Ryan Bertrand   \n",
       "12          12      49  Southampton  0.026454         Nathan Redmond   \n",
       "13          13      54  Southampton  0.033908      James Ward-Prowse   \n",
       "14          14      57  Southampton  0.429492             Danny Ings   \n",
       "15          15      58  Southampton  0.021995             Danny Ings   \n",
       "16          16      60  Southampton  0.050620           Matt Targett   \n",
       "17          17      60  Southampton  0.053497         Nathan Redmond   \n",
       "18          18      66  Southampton  0.086690           Matt Targett   \n",
       "19          19      71  Southampton  0.011735  Pierre-Emile Højbjerg   \n",
       "20          20      79  Southampton  0.023274         Nathan Redmond   \n",
       "21          21      81  Southampton  0.018172  Pierre-Emile Højbjerg   \n",
       "22          22      19  Bournemouth  0.516069            Dan Gosling   \n",
       "23          23      31  Bournemouth  0.016307           David Brooks   \n",
       "24          24      31  Bournemouth  0.515468          Callum Wilson   \n",
       "25          25      51  Bournemouth  0.025648           Jack Simpson   \n",
       "26          26      72  Bournemouth  0.034942            Ryan Fraser   \n",
       "27          27      82  Bournemouth  0.017407            Joshua King   \n",
       "28          28      85  Bournemouth  0.973102          Callum Wilson   \n",
       "29          29      87  Bournemouth  0.506683          Callum Wilson   \n",
       "30          30      94  Bournemouth  0.024924            Joshua King   \n",
       "\n",
       "         result  \n",
       "0   BlockedShot  \n",
       "1   BlockedShot  \n",
       "2   BlockedShot  \n",
       "3   BlockedShot  \n",
       "4   BlockedShot  \n",
       "5     SavedShot  \n",
       "6          Goal  \n",
       "7   MissedShots  \n",
       "8   MissedShots  \n",
       "9     SavedShot  \n",
       "10   ShotOnPost  \n",
       "11  MissedShots  \n",
       "12  MissedShots  \n",
       "13         Goal  \n",
       "14    SavedShot  \n",
       "15    SavedShot  \n",
       "16  BlockedShot  \n",
       "17  MissedShots  \n",
       "18         Goal  \n",
       "19  MissedShots  \n",
       "20  MissedShots  \n",
       "21  MissedShots  \n",
       "22         Goal  \n",
       "23    SavedShot  \n",
       "24         Goal  \n",
       "25  MissedShots  \n",
       "26  MissedShots  \n",
       "27  MissedShots  \n",
       "28         Goal  \n",
       "29    SavedShot  \n",
       "30  MissedShots  "
      ]
     },
     "execution_count": 2,
     "metadata": {},
     "output_type": "execute_result"
    }
   ],
   "source": [
    "df = pd.read_csv('xgtutorial.csv')\n",
    "df"
   ]
  },
  {
   "cell_type": "code",
   "execution_count": 3,
   "id": "16b0d078",
   "metadata": {},
   "outputs": [],
   "source": [
    "# Create list for xg and minutes for each team\n",
    "\n",
    "a_min = [0]\n",
    "h_min = [0]\n",
    "a_xg = [0]\n",
    "h_xg = [0]\n",
    "\n",
    "for x in range(len (df['xG'])):\n",
    "    if df['team'][x] == 'Southampton':\n",
    "        a_xg.append(df['xG'][x])\n",
    "        a_min.append(df['minute'][x])\n",
    "        \n",
    "    if df['team'][x] == 'Bournemouth':\n",
    "        h_xg.append(df['xG'][x])\n",
    "        h_min.append(df['minute'][x])    "
   ]
  },
  {
   "cell_type": "code",
   "execution_count": 4,
   "id": "50b8950e",
   "metadata": {},
   "outputs": [
    {
     "data": {
      "text/plain": [
       "(23, 10, 23, 10, 31)"
      ]
     },
     "execution_count": 4,
     "metadata": {},
     "output_type": "execute_result"
    }
   ],
   "source": [
    "len(a_xg), len(h_xg), len(a_min), len(h_min), len(df)"
   ]
  },
  {
   "cell_type": "code",
   "execution_count": 5,
   "id": "63045321",
   "metadata": {},
   "outputs": [
    {
     "data": {
      "text/plain": [
       "[0,\n",
       " 0.1054020971059799,\n",
       " 0.136319562792778,\n",
       " 0.0372170321643352,\n",
       " 0.0214042738080024,\n",
       " 0.0663633570075035,\n",
       " 0.3638263642787933,\n",
       " 0.3540951907634735,\n",
       " 0.0362738892436027,\n",
       " 0.0768037065863609,\n",
       " 0.380378007888794,\n",
       " 0.6089562177658081,\n",
       " 0.0276359431445598,\n",
       " 0.0264540147036314,\n",
       " 0.0339079499244689,\n",
       " 0.4294915795326233,\n",
       " 0.0219945963472127,\n",
       " 0.0506199821829795,\n",
       " 0.0534969829022884,\n",
       " 0.0866899117827415,\n",
       " 0.0117352697998285,\n",
       " 0.0232735332101583,\n",
       " 0.0181721448898315]"
      ]
     },
     "execution_count": 5,
     "metadata": {},
     "output_type": "execute_result"
    }
   ],
   "source": [
    "a_xg"
   ]
  },
  {
   "cell_type": "code",
   "execution_count": 6,
   "id": "ada98dfc",
   "metadata": {},
   "outputs": [
    {
     "data": {
      "text/plain": [
       "[0,\n",
       " 1,\n",
       " 2,\n",
       " 2,\n",
       " 2,\n",
       " 3,\n",
       " 9,\n",
       " 11,\n",
       " 17,\n",
       " 21,\n",
       " 23,\n",
       " 23,\n",
       " 47,\n",
       " 49,\n",
       " 54,\n",
       " 57,\n",
       " 58,\n",
       " 60,\n",
       " 60,\n",
       " 66,\n",
       " 71,\n",
       " 79,\n",
       " 81]"
      ]
     },
     "execution_count": 6,
     "metadata": {},
     "output_type": "execute_result"
    }
   ],
   "source": [
    "a_min"
   ]
  },
  {
   "cell_type": "code",
   "execution_count": 24,
   "id": "87b0c2c7",
   "metadata": {},
   "outputs": [
    {
     "data": {
      "text/plain": [
       "[<matplotlib.lines.Line2D at 0x1d1b45ece80>]"
      ]
     },
     "execution_count": 24,
     "metadata": {},
     "output_type": "execute_result"
    },
    {
     "data": {
      "image/png": "[encoded data removed]",
      "text/plain": [
       "<Figure size 576x432 with 1 Axes>"
      ]
     },
     "metadata": {
      "needs_background": "light"
     },
     "output_type": "display_data"
    }
   ],
   "source": [
    "# plot the lists of each team\n",
    "\n",
    "fig, ax = plt.subplots(figsize = (8, 6))\n",
    "\n",
    "ax.step(x=a_min,y=a_xg,color='#d3d3d3',linewidth=5,where='post')\n",
    "ax.step(x=h_min,y=h_xg,color='#fd3607',linewidth=5,where='post')\n",
    "\n"
   ]
  },
  {
   "cell_type": "markdown",
   "id": "d6b4a503",
   "metadata": {},
   "source": [
    "### We notice that the graph is not clear due to flactiuation up and down with each shot \n",
    "### We can cummulate the xG list to make the graph more understandable "
   ]
  },
  {
   "cell_type": "code",
   "execution_count": 9,
   "id": "9b114c3f",
   "metadata": {},
   "outputs": [],
   "source": [
    "# create function to sum XG list \n",
    "\n",
    "def sum_list (xg_list):\n",
    "    return [sum(xg_list[:i+1]) for i in range (len(xg_list))]"
   ]
  },
  {
   "cell_type": "code",
   "execution_count": 10,
   "id": "af3e63a1",
   "metadata": {},
   "outputs": [
    {
     "data": {
      "text/plain": [
       "[0,\n",
       " 0.5160688757896423,\n",
       " 0.016306834295392,\n",
       " 0.515467643737793,\n",
       " 0.0256478916853666,\n",
       " 0.0349417366087436,\n",
       " 0.0174072794616222,\n",
       " 0.9731016159057616,\n",
       " 0.5066826343536377,\n",
       " 0.0249238740652799]"
      ]
     },
     "execution_count": 10,
     "metadata": {},
     "output_type": "execute_result"
    }
   ],
   "source": [
    "h_xg"
   ]
  },
  {
   "cell_type": "code",
   "execution_count": 11,
   "id": "177c5886",
   "metadata": {},
   "outputs": [],
   "source": [
    "# get sums for xg lists\n",
    "h_sum = sum_list(h_xg)\n",
    "a_sum = sum_list(a_xg)\n"
   ]
  },
  {
   "cell_type": "code",
   "execution_count": 12,
   "id": "e97e375d",
   "metadata": {
    "scrolled": true
   },
   "outputs": [
    {
     "data": {
      "text/plain": [
       "([0,\n",
       "  0.5160688757896423,\n",
       "  0.5323757100850344,\n",
       "  1.0478433538228273,\n",
       "  1.073491245508194,\n",
       "  1.1084329821169376,\n",
       "  1.1258402615785599,\n",
       "  2.0989418774843216,\n",
       "  2.6056245118379593,\n",
       "  2.6305483859032393],\n",
       " [0,\n",
       "  0.1054020971059799,\n",
       "  0.24172165989875788,\n",
       "  0.2789386920630931,\n",
       "  0.3003429658710955,\n",
       "  0.366706322878599,\n",
       "  0.7305326871573923,\n",
       "  1.0846278779208658,\n",
       "  1.1209017671644685,\n",
       "  1.1977054737508295,\n",
       "  1.5780834816396234,\n",
       "  2.1870396994054317,\n",
       "  2.2146756425499916,\n",
       "  2.241129657253623,\n",
       "  2.275037607178092,\n",
       "  2.7045291867107153,\n",
       "  2.726523783057928,\n",
       "  2.7771437652409077,\n",
       "  2.830640748143196,\n",
       "  2.9173306599259377,\n",
       "  2.929065929725766,\n",
       "  2.9523394629359245,\n",
       "  2.970511607825756])"
      ]
     },
     "execution_count": 12,
     "metadata": {},
     "output_type": "execute_result"
    }
   ],
   "source": [
    "h_sum, a_sum"
   ]
  },
  {
   "cell_type": "code",
   "execution_count": 41,
   "id": "164c1b05",
   "metadata": {},
   "outputs": [
    {
     "data": {
      "image/png": "[encoded data removed]",
      "text/plain": [
       "<Figure size 720x432 with 1 Axes>"
      ]
     },
     "metadata": {},
     "output_type": "display_data"
    }
   ],
   "source": [
    "# now lets plot again and check the results\n",
    "\n",
    "fig, ax = plt.subplots(figsize = (10, 6))\n",
    "fig.set_facecolor('gray')\n",
    "ax.set_facecolor('gray')\n",
    "\n",
    "ax.step (a_min, a_sum, color = '#FF0033', lw = 4)\n",
    "ax.step (h_min, h_sum, color = '#0C0D0F', lw = 4)\n",
    "\n",
    "ax.text(85, 3, 'Southampton', color = '#FF0033')\n",
    "ax.text(86, 2.4, 'Bournemouth', color = '#0C0D0F')\n",
    "ax.grid(ls = 'dotted', axis = 'y', color = 'black')\n",
    "plt.title('XG-Expected Goals PLot (Bournemouth VS Southampton)', color= 'black', fontsize = 16)\n",
    "plt.xlabel('Minutes', color= 'black', fontsize = 16)\n",
    "plt.ylabel('XG', color= 'black', fontsize = 16)\n",
    "plt.xticks([0,15,30,45,60,75,90])\n",
    "plt.savefig('Expected Goals.png');"
   ]
  },
  {
   "cell_type": "markdown",
   "id": "310a3f5a",
   "metadata": {},
   "source": [
    "### The graph now is far better than before and we can now adjust the plot to look even more clear"
   ]
  },
  {
   "cell_type": "code",
   "execution_count": 62,
   "id": "8fa26805",
   "metadata": {},
   "outputs": [
    {
     "data": {
      "image/png": "[encoded data removed]",
      "text/plain": [
       "<Figure size 864x432 with 1 Axes>"
      ]
     },
     "metadata": {},
     "output_type": "display_data"
    }
   ],
   "source": [
    "fig, ax = plt.subplots(figsize = (12, 6))\n",
    "\n",
    "# set base colors\n",
    "fig.set_facecolor('grey')\n",
    "ax.patch.set_facecolor('grey')\n",
    "ax.grid(ls = 'dotted', axis = 'y', color = 'black')\n",
    "plt.rcParams['xtick.color'] = 'white'\n",
    "mpl.rcParams['ytick.color'] = 'white'\n",
    "\n",
    "\n",
    "plt.xticks([0,15, 30, 45, 60, 75, 90])\n",
    "plt.xlabel('Minutes', color = 'white', fontsize = 16)\n",
    "plt.ylabel('XG', color = 'white', fontsize = 16)\n",
    "plt.title('Southampton VS Bournemouth XG plot', color = 'white', fontsize = 16)\n",
    "\n",
    "ax.step(x = a_min, y = a_sum, where='post', linewidth = 5)\n",
    "ax.step(x = h_min, y = h_sum, where='post', linewidth = 5)\n",
    "plt.savefig('SouVSBou_XG.jpeg');"
   ]
  },
  {
   "cell_type": "code",
   "execution_count": 60,
   "id": "89a0c91e",
   "metadata": {},
   "outputs": [
    {
     "name": "stdout",
     "output_type": "stream",
     "text": [
      "Southampton total XG  = 2.97\n",
      "Boutnemouth total XG  = 2.63\n"
     ]
    }
   ],
   "source": [
    "# print the max XG for each team\n",
    "\n",
    "h_xg_max = round(h_sum[-1],2)\n",
    "a_xg_max = round(a_sum[-1],2)\n",
    "\n",
    "print (f'Southampton total XG  = {a_xg_max}')\n",
    "print (f'Boutnemouth total XG  = {h_xg_max}')"
   ]
  },
  {
   "cell_type": "code",
   "execution_count": null,
   "id": "1dfd945a",
   "metadata": {},
   "outputs": [],
   "source": []
  }
 ],
 "metadata": {
  "kernelspec": {
   "display_name": "Python 3",
   "language": "python",
   "name": "python3"
  },
  "language_info": {
   "codemirror_mode": {
    "name": "ipython",
    "version": 3
   },
   "file_extension": ".py",
   "mimetype": "text/x-python",
   "name": "python",
   "nbconvert_exporter": "python",
   "pygments_lexer": "ipython3",
   "version": "3.8.10"
  }
 },
 "nbformat": 4,
 "nbformat_minor": 5
}
